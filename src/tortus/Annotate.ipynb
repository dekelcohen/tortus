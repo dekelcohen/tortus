{
 "cells": [
  {
   "cell_type": "code",
   "execution_count": 1,
   "id": "ae3a7f8a",
   "metadata": {},
   "outputs": [],
   "source": [
    "%load_ext autoreload\n",
    "%autoreload 2"
   ]
  },
  {
   "cell_type": "code",
   "execution_count": 2,
   "id": "18ab6170",
   "metadata": {},
   "outputs": [
    {
     "data": {
      "application/vnd.jupyter.widget-view+json": {
       "model_id": "8507b09a7da84bafb0a44e02bc0dbce2",
       "version_major": 2,
       "version_minor": 0
      },
      "text/plain": [
       "HTML(value=\"<h1 style='text-align:center'>t &nbsp; <span style=        'color:#36a849'>o</span> &nbsp; r &nbsp…"
      ]
     },
     "metadata": {},
     "output_type": "display_data"
    },
    {
     "data": {
      "application/vnd.jupyter.widget-view+json": {
       "model_id": "0edbd84ca90547879df4f1491c16b99d",
       "version_major": 2,
       "version_minor": 0
      },
      "text/plain": [
       "HTML(value=\"<h3 style='text-align:center'>        easy text annotation in a Jupyter Notebook</h3>\")"
      ]
     },
     "metadata": {},
     "output_type": "display_data"
    }
   ],
   "source": [
    "import pandas as pd\n",
    "from tortus import Tortus, get_annotated_path, load_annotated_data"
   ]
  },
  {
   "cell_type": "code",
   "execution_count": 3,
   "id": "3d7f06a7",
   "metadata": {},
   "outputs": [],
   "source": [
    "# Read news\n",
    "data_path = '../../../../Relation Extraction/Datasets/100-news/100-news.csv'\n",
    "data_df = pd.read_csv(data_path,sep='\\t')\n",
    "data_df = data_df.reset_index()\n",
    "text_col = 'NERed_par'\n",
    "id_col='index'\n",
    "# PER working_at ORG\n",
    "# ORG employes PER\n",
    "labels=['working_at','employs','founded','invest_in','collaborate_with','funded_by','a_colleague_of''mentioned_by', 'refer_to', 'talk_to', 'met','no_relation', 'e1-err', 'ent2-err']"
   ]
  },
  {
   "cell_type": "code",
   "execution_count": 9,
   "id": "01381008",
   "metadata": {},
   "outputs": [
    {
     "data": {
      "application/vnd.jupyter.widget-view+json": {
       "model_id": "3e67b186ce46467785fa03b5a5a74058",
       "version_major": 2,
       "version_minor": 0
      },
      "text/plain": [
       "HTML(value=\"<h1 style='text-align:center'>t &nbsp; <span style=        'color:#36a849'>o</span> &nbsp; r &nbsp…"
      ]
     },
     "metadata": {},
     "output_type": "display_data"
    },
    {
     "data": {
      "application/vnd.jupyter.widget-view+json": {
       "model_id": "8354e47e4c6144d5b1bb145e51b5c112",
       "version_major": 2,
       "version_minor": 0
      },
      "text/plain": [
       "HTML(value=\"<h3 style='text-align:center'>        easy text annotation in a Jupyter Notebook</h3>\")"
      ]
     },
     "metadata": {},
     "output_type": "display_data"
    },
    {
     "data": {
      "text/html": [
       "<div>\n",
       "<style scoped>\n",
       "    .dataframe tbody tr th:only-of-type {\n",
       "        vertical-align: middle;\n",
       "    }\n",
       "\n",
       "    .dataframe tbody tr th {\n",
       "        vertical-align: top;\n",
       "    }\n",
       "\n",
       "    .dataframe thead th {\n",
       "        text-align: right;\n",
       "    }\n",
       "</style>\n",
       "<table border=\"1\" class=\"dataframe\">\n",
       "  <thead>\n",
       "    <tr style=\"text-align: right;\">\n",
       "      <th></th>\n",
       "      <th>index</th>\n",
       "      <th>NERed_par</th>\n",
       "      <th>e1_text</th>\n",
       "      <th>e1_label</th>\n",
       "      <th>e1_start</th>\n",
       "      <th>e1_end</th>\n",
       "      <th>e2_text</th>\n",
       "      <th>e2_label</th>\n",
       "      <th>e2_start</th>\n",
       "      <th>e2_end</th>\n",
       "      <th>REL</th>\n",
       "    </tr>\n",
       "  </thead>\n",
       "  <tbody>\n",
       "    <tr>\n",
       "      <th>0</th>\n",
       "      <td>0</td>\n",
       "      <td>NNA - Within his tours of the Lebanese regions...</td>\n",
       "      <td>Walid Nassar</td>\n",
       "      <td>PERSON</td>\n",
       "      <td>17</td>\n",
       "      <td>19</td>\n",
       "      <td>Muhammad Jaffal</td>\n",
       "      <td>PERSON</td>\n",
       "      <td>50</td>\n",
       "      <td>52</td>\n",
       "      <td>met_with</td>\n",
       "    </tr>\n",
       "    <tr>\n",
       "      <th>1</th>\n",
       "      <td>1</td>\n",
       "      <td>NNA - Within his tours of the Lebanese regions...</td>\n",
       "      <td>Walid Nassar</td>\n",
       "      <td>PERSON</td>\n",
       "      <td>17</td>\n",
       "      <td>19</td>\n",
       "      <td>the Union of Tire Municipalities</td>\n",
       "      <td>ORG</td>\n",
       "      <td>55</td>\n",
       "      <td>60</td>\n",
       "      <td>NaN</td>\n",
       "    </tr>\n",
       "    <tr>\n",
       "      <th>2</th>\n",
       "      <td>2</td>\n",
       "      <td>NNA - Within his tours of the Lebanese regions...</td>\n",
       "      <td>Walid Nassar</td>\n",
       "      <td>PERSON</td>\n",
       "      <td>17</td>\n",
       "      <td>19</td>\n",
       "      <td>Hassan Dabouq</td>\n",
       "      <td>PERSON</td>\n",
       "      <td>69</td>\n",
       "      <td>71</td>\n",
       "      <td>met_with</td>\n",
       "    </tr>\n",
       "    <tr>\n",
       "      <th>3</th>\n",
       "      <td>3</td>\n",
       "      <td>NNA - Within his tours of the Lebanese regions...</td>\n",
       "      <td>Walid Nassar</td>\n",
       "      <td>PERSON</td>\n",
       "      <td>17</td>\n",
       "      <td>19</td>\n",
       "      <td>the Municipal Council</td>\n",
       "      <td>ORG</td>\n",
       "      <td>74</td>\n",
       "      <td>77</td>\n",
       "      <td>met_with</td>\n",
       "    </tr>\n",
       "    <tr>\n",
       "      <th>4</th>\n",
       "      <td>4</td>\n",
       "      <td>NNA - Within his tours of the Lebanese regions...</td>\n",
       "      <td>Walid Nassar</td>\n",
       "      <td>PERSON</td>\n",
       "      <td>17</td>\n",
       "      <td>19</td>\n",
       "      <td>the Ministry of Tourism, Georges Nour</td>\n",
       "      <td>ORG</td>\n",
       "      <td>91</td>\n",
       "      <td>98</td>\n",
       "      <td>met_with</td>\n",
       "    </tr>\n",
       "    <tr>\n",
       "      <th>...</th>\n",
       "      <td>...</td>\n",
       "      <td>...</td>\n",
       "      <td>...</td>\n",
       "      <td>...</td>\n",
       "      <td>...</td>\n",
       "      <td>...</td>\n",
       "      <td>...</td>\n",
       "      <td>...</td>\n",
       "      <td>...</td>\n",
       "      <td>...</td>\n",
       "      <td>...</td>\n",
       "    </tr>\n",
       "    <tr>\n",
       "      <th>2669</th>\n",
       "      <td>2669</td>\n",
       "      <td>After the end of the interventions , President...</td>\n",
       "      <td>Aoun</td>\n",
       "      <td>PERSON</td>\n",
       "      <td>8</td>\n",
       "      <td>9</td>\n",
       "      <td>the United Nations</td>\n",
       "      <td>ORG</td>\n",
       "      <td>41</td>\n",
       "      <td>44</td>\n",
       "      <td>refer_to</td>\n",
       "    </tr>\n",
       "    <tr>\n",
       "      <th>2670</th>\n",
       "      <td>2670</td>\n",
       "      <td>The Deputy Secretary - General of &lt;span style=...</td>\n",
       "      <td>the United Nations</td>\n",
       "      <td>ORG</td>\n",
       "      <td>6</td>\n",
       "      <td>9</td>\n",
       "      <td>Amina Mohamed</td>\n",
       "      <td>PERSON</td>\n",
       "      <td>11</td>\n",
       "      <td>13</td>\n",
       "      <td>employs</td>\n",
       "    </tr>\n",
       "    <tr>\n",
       "      <th>2671</th>\n",
       "      <td>2671</td>\n",
       "      <td>The Deputy Secretary - General of &lt;span style=...</td>\n",
       "      <td>the United Nations</td>\n",
       "      <td>ORG</td>\n",
       "      <td>6</td>\n",
       "      <td>9</td>\n",
       "      <td>Antonio Guterres</td>\n",
       "      <td>PERSON</td>\n",
       "      <td>24</td>\n",
       "      <td>26</td>\n",
       "      <td>NaN</td>\n",
       "    </tr>\n",
       "    <tr>\n",
       "      <th>2672</th>\n",
       "      <td>2672</td>\n",
       "      <td>The Deputy Secretary - General of the United N...</td>\n",
       "      <td>Amina Mohamed</td>\n",
       "      <td>PERSON</td>\n",
       "      <td>11</td>\n",
       "      <td>13</td>\n",
       "      <td>Antonio Guterres</td>\n",
       "      <td>PERSON</td>\n",
       "      <td>24</td>\n",
       "      <td>26</td>\n",
       "      <td>collaborates_with</td>\n",
       "    </tr>\n",
       "    <tr>\n",
       "      <th>2673</th>\n",
       "      <td>2673</td>\n",
       "      <td>French Foreign Minister &lt;span style=\"backgroun...</td>\n",
       "      <td>Jean-Yves Le</td>\n",
       "      <td>PERSON</td>\n",
       "      <td>3</td>\n",
       "      <td>7</td>\n",
       "      <td>Macron</td>\n",
       "      <td>PERSON</td>\n",
       "      <td>14</td>\n",
       "      <td>15</td>\n",
       "      <td>collaborates_with</td>\n",
       "    </tr>\n",
       "  </tbody>\n",
       "</table>\n",
       "<p>2674 rows × 11 columns</p>\n",
       "</div>"
      ],
      "text/plain": [
       "      index                                          NERed_par  \\\n",
       "0         0  NNA - Within his tours of the Lebanese regions...   \n",
       "1         1  NNA - Within his tours of the Lebanese regions...   \n",
       "2         2  NNA - Within his tours of the Lebanese regions...   \n",
       "3         3  NNA - Within his tours of the Lebanese regions...   \n",
       "4         4  NNA - Within his tours of the Lebanese regions...   \n",
       "...     ...                                                ...   \n",
       "2669   2669  After the end of the interventions , President...   \n",
       "2670   2670  The Deputy Secretary - General of <span style=...   \n",
       "2671   2671  The Deputy Secretary - General of <span style=...   \n",
       "2672   2672  The Deputy Secretary - General of the United N...   \n",
       "2673   2673  French Foreign Minister <span style=\"backgroun...   \n",
       "\n",
       "                 e1_text e1_label  e1_start  e1_end  \\\n",
       "0           Walid Nassar   PERSON        17      19   \n",
       "1           Walid Nassar   PERSON        17      19   \n",
       "2           Walid Nassar   PERSON        17      19   \n",
       "3           Walid Nassar   PERSON        17      19   \n",
       "4           Walid Nassar   PERSON        17      19   \n",
       "...                  ...      ...       ...     ...   \n",
       "2669                Aoun   PERSON         8       9   \n",
       "2670  the United Nations      ORG         6       9   \n",
       "2671  the United Nations      ORG         6       9   \n",
       "2672       Amina Mohamed   PERSON        11      13   \n",
       "2673        Jean-Yves Le   PERSON         3       7   \n",
       "\n",
       "                                    e2_text e2_label  e2_start  e2_end  \\\n",
       "0                           Muhammad Jaffal   PERSON        50      52   \n",
       "1          the Union of Tire Municipalities      ORG        55      60   \n",
       "2                             Hassan Dabouq   PERSON        69      71   \n",
       "3                     the Municipal Council      ORG        74      77   \n",
       "4     the Ministry of Tourism, Georges Nour      ORG        91      98   \n",
       "...                                     ...      ...       ...     ...   \n",
       "2669                     the United Nations      ORG        41      44   \n",
       "2670                          Amina Mohamed   PERSON        11      13   \n",
       "2671                       Antonio Guterres   PERSON        24      26   \n",
       "2672                       Antonio Guterres   PERSON        24      26   \n",
       "2673                                 Macron   PERSON        14      15   \n",
       "\n",
       "                    REL  \n",
       "0              met_with  \n",
       "1                   NaN  \n",
       "2              met_with  \n",
       "3              met_with  \n",
       "4              met_with  \n",
       "...                 ...  \n",
       "2669           refer_to  \n",
       "2670            employs  \n",
       "2671                NaN  \n",
       "2672  collaborates_with  \n",
       "2673  collaborates_with  \n",
       "\n",
       "[2674 rows x 11 columns]"
      ]
     },
     "execution_count": 9,
     "metadata": {},
     "output_type": "execute_result"
    }
   ],
   "source": [
    "data_df"
   ]
  },
  {
   "cell_type": "code",
   "execution_count": 20,
   "id": "8bbf9cda",
   "metadata": {},
   "outputs": [],
   "source": [
    "# Replace markers to highlight \n",
    "data_df[text_col] = data_df[text_col].str.replace('[\\\\','[/', regex=False)\n",
    "markers_repl_dct = {'[E1]' : '<span style=\"background-color : yellow\">',\n",
    "     '[/E1]' : '</span>',\n",
    "     '[E2]' : '<span style=\"background-color : orange\">',\n",
    "     '[/E2]' : '</span>',     \n",
    "}\n",
    "for old, new in markers_repl_dct.items():\n",
    "    data_df[text_col] = data_df[text_col].str.replace(old, new, regex=False)\n",
    "\n",
    "def get_html(df_row):\n",
    "    print(f\"e1_type: {df_row['e1_label']}, e2_type: {df_row['e2_label']}\")\n",
    "    return df_row[text_col]"
   ]
  },
  {
   "cell_type": "code",
   "execution_count": 21,
   "id": "9f9a2a46",
   "metadata": {},
   "outputs": [],
   "source": [
    "# Read movies reviews\n",
    "#data_path = '../../sample_project/movie_reviews.csv'\n",
    "#data_df = pd.read_csv(data_path)\n",
    "#text_col = 'reviews'\n",
    "#id_col='review_id'\n",
    "#labels = None"
   ]
  },
  {
   "cell_type": "code",
   "execution_count": 22,
   "id": "763beb5a",
   "metadata": {},
   "outputs": [
    {
     "data": {
      "text/html": [
       "<div>\n",
       "<style scoped>\n",
       "    .dataframe tbody tr th:only-of-type {\n",
       "        vertical-align: middle;\n",
       "    }\n",
       "\n",
       "    .dataframe tbody tr th {\n",
       "        vertical-align: top;\n",
       "    }\n",
       "\n",
       "    .dataframe thead th {\n",
       "        text-align: right;\n",
       "    }\n",
       "</style>\n",
       "<table border=\"1\" class=\"dataframe\">\n",
       "  <thead>\n",
       "    <tr style=\"text-align: right;\">\n",
       "      <th></th>\n",
       "      <th>index</th>\n",
       "      <th>NERed_par</th>\n",
       "      <th>label</th>\n",
       "      <th>annotated_at</th>\n",
       "    </tr>\n",
       "  </thead>\n",
       "  <tbody>\n",
       "    <tr>\n",
       "      <th>0</th>\n",
       "      <td>2401</td>\n",
       "      <td>NNA - Member of &lt;span style=\"background-color ...</td>\n",
       "      <td>org-per</td>\n",
       "      <td>2022-03-24 17:19:14</td>\n",
       "    </tr>\n",
       "    <tr>\n",
       "      <th>1</th>\n",
       "      <td>878</td>\n",
       "      <td>NNA - Minister of Education and Acting Ministe...</td>\n",
       "      <td>org-per</td>\n",
       "      <td>2022-03-24 17:22:54</td>\n",
       "    </tr>\n",
       "    <tr>\n",
       "      <th>2</th>\n",
       "      <td>376</td>\n",
       "      <td>At &lt;span style=\"background-color : yellow\"&gt; Kf...</td>\n",
       "      <td>org-per</td>\n",
       "      <td>2022-03-24 17:23:25</td>\n",
       "    </tr>\n",
       "    <tr>\n",
       "      <th>3</th>\n",
       "      <td>2098</td>\n",
       "      <td>NNA - Today , the United Nations Special Coord...</td>\n",
       "      <td>rel-err</td>\n",
       "      <td>2022-03-24 17:22:36</td>\n",
       "    </tr>\n",
       "    <tr>\n",
       "      <th>4</th>\n",
       "      <td>2275</td>\n",
       "      <td>As a follow - on to the Middle East and &lt;span ...</td>\n",
       "      <td>org-per</td>\n",
       "      <td>2022-03-24 17:20:35</td>\n",
       "    </tr>\n",
       "    <tr>\n",
       "      <th>5</th>\n",
       "      <td>2650</td>\n",
       "      <td>Minister &lt;span style=\"background-color : yello...</td>\n",
       "      <td>org-per</td>\n",
       "      <td>2022-03-24 17:20:43</td>\n",
       "    </tr>\n",
       "    <tr>\n",
       "      <th>6</th>\n",
       "      <td>2334</td>\n",
       "      <td>&lt;span style=\"background-color : yellow\"&gt; UN Sp...</td>\n",
       "      <td>per-per</td>\n",
       "      <td>2022-03-24 17:20:45</td>\n",
       "    </tr>\n",
       "    <tr>\n",
       "      <th>7</th>\n",
       "      <td>1766</td>\n",
       "      <td>Commenting on this occasion , &lt;span style=\"bac...</td>\n",
       "      <td>ent-err</td>\n",
       "      <td>2022-03-24 17:22:31</td>\n",
       "    </tr>\n",
       "  </tbody>\n",
       "</table>\n",
       "</div>"
      ],
      "text/plain": [
       "   index                                          NERed_par    label  \\\n",
       "0   2401  NNA - Member of <span style=\"background-color ...  org-per   \n",
       "1    878  NNA - Minister of Education and Acting Ministe...  org-per   \n",
       "2    376  At <span style=\"background-color : yellow\"> Kf...  org-per   \n",
       "3   2098  NNA - Today , the United Nations Special Coord...  rel-err   \n",
       "4   2275  As a follow - on to the Middle East and <span ...  org-per   \n",
       "5   2650  Minister <span style=\"background-color : yello...  org-per   \n",
       "6   2334  <span style=\"background-color : yellow\"> UN Sp...  per-per   \n",
       "7   1766  Commenting on this occasion , <span style=\"bac...  ent-err   \n",
       "\n",
       "          annotated_at  \n",
       "0  2022-03-24 17:19:14  \n",
       "1  2022-03-24 17:22:54  \n",
       "2  2022-03-24 17:23:25  \n",
       "3  2022-03-24 17:22:36  \n",
       "4  2022-03-24 17:20:35  \n",
       "5  2022-03-24 17:20:43  \n",
       "6  2022-03-24 17:20:45  \n",
       "7  2022-03-24 17:22:31  "
      ]
     },
     "execution_count": 22,
     "metadata": {},
     "output_type": "execute_result"
    }
   ],
   "source": [
    "annotations = load_annotated_data(data_path)\n",
    "annotations"
   ]
  },
  {
   "cell_type": "code",
   "execution_count": 27,
   "id": "2666cf90",
   "metadata": {},
   "outputs": [],
   "source": [
    "tortus = Tortus(\n",
    "    data_df,\n",
    "    text_col ,\n",
    "    num_records=100,\n",
    "    id_column=id_col,\n",
    "    labels=labels,\n",
    "    annotations=annotations,\n",
    "    edit_annotations=False,\n",
    "    get_html=get_html,\n",
    ")"
   ]
  },
  {
   "cell_type": "code",
   "execution_count": 28,
   "id": "b5194710",
   "metadata": {},
   "outputs": [
    {
     "data": {
      "application/vnd.jupyter.widget-view+json": {
       "model_id": "e4d1bb34193e4986944d99f7188e2b55",
       "version_major": 2,
       "version_minor": 0
      },
      "text/plain": [
       "HBox(children=(HTML(value='<h1>t &nbsp; <span style=\"color:#36a849\">o</span>             &nbsp; r &nbsp; t &nb…"
      ]
     },
     "metadata": {},
     "output_type": "display_data"
    },
    {
     "data": {
      "application/vnd.jupyter.widget-view+json": {
       "model_id": "2caddfced5f24db39d640185c8a2bf4e",
       "version_major": 2,
       "version_minor": 0
      },
      "text/plain": [
       "HTML(value='Click on the label corresponding with the text below. Each selection requires                 conf…"
      ]
     },
     "metadata": {},
     "output_type": "display_data"
    },
    {
     "data": {
      "application/vnd.jupyter.widget-view+json": {
       "model_id": "6effd25a910041b2ad271ced3adb75e8",
       "version_major": 2,
       "version_minor": 0
      },
      "text/plain": [
       "HTML(value='<h4>NNA - Within his tours of the Lebanese regions , the Minister of Tourism , Eng . <span style=\"…"
      ]
     },
     "metadata": {},
     "output_type": "display_data"
    },
    {
     "data": {
      "application/vnd.jupyter.widget-view+json": {
       "model_id": "dc09f5dfd6be40adb39377b0dfbe4e6e",
       "version_major": 2,
       "version_minor": 0
      },
      "text/plain": [
       "GridBox(children=(VBox(children=(VBox(children=(HBox(children=(Button(description='working_at', layout=Layout(…"
      ]
     },
     "metadata": {},
     "output_type": "display_data"
    },
    {
     "data": {
      "application/vnd.jupyter.widget-view+json": {
       "model_id": "b6a792f18d6e4c52922b98801f76c92c",
       "version_major": 2,
       "version_minor": 0
      },
      "text/plain": [
       "Output()"
      ]
     },
     "metadata": {},
     "output_type": "display_data"
    }
   ],
   "source": [
    "tortus.annotate()"
   ]
  },
  {
   "cell_type": "code",
   "execution_count": null,
   "id": "b09d8c25",
   "metadata": {},
   "outputs": [],
   "source": [
    "tortus.annotations.to_csv(get_annotated_path(data_path),index=False)"
   ]
  },
  {
   "cell_type": "code",
   "execution_count": null,
   "id": "94b18b9c",
   "metadata": {},
   "outputs": [],
   "source": [
    "tortus.annotations"
   ]
  },
  {
   "cell_type": "code",
   "execution_count": null,
   "id": "76648004",
   "metadata": {},
   "outputs": [],
   "source": []
  }
 ],
 "metadata": {
  "kernelspec": {
   "display_name": "Python 3 (ipykernel)",
   "language": "python",
   "name": "python3"
  },
  "language_info": {
   "codemirror_mode": {
    "name": "ipython",
    "version": 3
   },
   "file_extension": ".py",
   "mimetype": "text/x-python",
   "name": "python",
   "nbconvert_exporter": "python",
   "pygments_lexer": "ipython3",
   "version": "3.8.12"
  }
 },
 "nbformat": 4,
 "nbformat_minor": 5
}
