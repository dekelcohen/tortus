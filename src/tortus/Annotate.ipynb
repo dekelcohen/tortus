{
 "cells": [
  {
   "cell_type": "code",
   "execution_count": 1,
   "id": "a00b9f8c",
   "metadata": {},
   "outputs": [
    {
     "data": {
      "application/vnd.jupyter.widget-view+json": {
       "model_id": "762c74e35e5649968ac4ce67415fa16a",
       "version_major": 2,
       "version_minor": 0
      },
      "text/plain": [
       "HTML(value=\"<h1 style='text-align:center'>t &nbsp; <span style=        'color:#36a849'>o</span> &nbsp; r &nbsp…"
      ]
     },
     "metadata": {},
     "output_type": "display_data"
    },
    {
     "data": {
      "application/vnd.jupyter.widget-view+json": {
       "model_id": "8df8e66978974121b18ebc239f91d885",
       "version_major": 2,
       "version_minor": 0
      },
      "text/plain": [
       "HTML(value=\"<h3 style='text-align:center'>        easy text annotation in a Jupyter Notebook</h3>\")"
      ]
     },
     "metadata": {},
     "output_type": "display_data"
    }
   ],
   "source": [
    "import pandas as pd\n",
    "from tortus import Tortus, load_annotated_data"
   ]
  },
  {
   "cell_type": "code",
   "execution_count": 8,
   "id": "2d21c8d1",
   "metadata": {},
   "outputs": [],
   "source": [
    "#data_path = '../../sample_project/movie_reviews.csv'\n",
    "# data_path = '../../sample_project/non-eng.csv'\n",
    "data_path = '../../../../Relation Extraction/Datasets/100-news/100-news.csv'"
   ]
  },
  {
   "cell_type": "code",
   "execution_count": 10,
   "id": "fcd13992",
   "metadata": {},
   "outputs": [],
   "source": [
    "data_df = pd.read_csv(data_path,sep='\\t')\n",
    "annotations = load_annotated_data(data_path)"
   ]
  },
  {
   "cell_type": "code",
   "execution_count": 11,
   "id": "3eca3dc4",
   "metadata": {},
   "outputs": [
    {
     "data": {
      "text/html": [
       "<div>\n",
       "<style scoped>\n",
       "    .dataframe tbody tr th:only-of-type {\n",
       "        vertical-align: middle;\n",
       "    }\n",
       "\n",
       "    .dataframe tbody tr th {\n",
       "        vertical-align: top;\n",
       "    }\n",
       "\n",
       "    .dataframe thead th {\n",
       "        text-align: right;\n",
       "    }\n",
       "</style>\n",
       "<table border=\"1\" class=\"dataframe\">\n",
       "  <thead>\n",
       "    <tr style=\"text-align: right;\">\n",
       "      <th></th>\n",
       "      <th>NERed_par</th>\n",
       "      <th>e1_text</th>\n",
       "      <th>e1_label</th>\n",
       "      <th>e1_start</th>\n",
       "      <th>e1_end</th>\n",
       "      <th>e2_text</th>\n",
       "      <th>e2_label</th>\n",
       "      <th>e2_start</th>\n",
       "      <th>e2_end</th>\n",
       "      <th>REL</th>\n",
       "    </tr>\n",
       "  </thead>\n",
       "  <tbody>\n",
       "    <tr>\n",
       "      <th>0</th>\n",
       "      <td>NNA - Within his tours of the Lebanese regions...</td>\n",
       "      <td>Walid Nassar</td>\n",
       "      <td>PERSON</td>\n",
       "      <td>17</td>\n",
       "      <td>19</td>\n",
       "      <td>Muhammad Jaffal</td>\n",
       "      <td>PERSON</td>\n",
       "      <td>50</td>\n",
       "      <td>52</td>\n",
       "      <td>met_with</td>\n",
       "    </tr>\n",
       "    <tr>\n",
       "      <th>1</th>\n",
       "      <td>NNA - Within his tours of the Lebanese regions...</td>\n",
       "      <td>Walid Nassar</td>\n",
       "      <td>PERSON</td>\n",
       "      <td>17</td>\n",
       "      <td>19</td>\n",
       "      <td>the Union of Tire Municipalities</td>\n",
       "      <td>ORG</td>\n",
       "      <td>55</td>\n",
       "      <td>60</td>\n",
       "      <td>NaN</td>\n",
       "    </tr>\n",
       "    <tr>\n",
       "      <th>2</th>\n",
       "      <td>NNA - Within his tours of the Lebanese regions...</td>\n",
       "      <td>Walid Nassar</td>\n",
       "      <td>PERSON</td>\n",
       "      <td>17</td>\n",
       "      <td>19</td>\n",
       "      <td>Hassan Dabouq</td>\n",
       "      <td>PERSON</td>\n",
       "      <td>69</td>\n",
       "      <td>71</td>\n",
       "      <td>met_with</td>\n",
       "    </tr>\n",
       "    <tr>\n",
       "      <th>3</th>\n",
       "      <td>NNA - Within his tours of the Lebanese regions...</td>\n",
       "      <td>Walid Nassar</td>\n",
       "      <td>PERSON</td>\n",
       "      <td>17</td>\n",
       "      <td>19</td>\n",
       "      <td>the Municipal Council</td>\n",
       "      <td>ORG</td>\n",
       "      <td>74</td>\n",
       "      <td>77</td>\n",
       "      <td>met_with</td>\n",
       "    </tr>\n",
       "    <tr>\n",
       "      <th>4</th>\n",
       "      <td>NNA - Within his tours of the Lebanese regions...</td>\n",
       "      <td>Walid Nassar</td>\n",
       "      <td>PERSON</td>\n",
       "      <td>17</td>\n",
       "      <td>19</td>\n",
       "      <td>the Ministry of Tourism, Georges Nour</td>\n",
       "      <td>ORG</td>\n",
       "      <td>91</td>\n",
       "      <td>98</td>\n",
       "      <td>met_with</td>\n",
       "    </tr>\n",
       "  </tbody>\n",
       "</table>\n",
       "</div>"
      ],
      "text/plain": [
       "                                           NERed_par       e1_text e1_label  \\\n",
       "0  NNA - Within his tours of the Lebanese regions...  Walid Nassar   PERSON   \n",
       "1  NNA - Within his tours of the Lebanese regions...  Walid Nassar   PERSON   \n",
       "2  NNA - Within his tours of the Lebanese regions...  Walid Nassar   PERSON   \n",
       "3  NNA - Within his tours of the Lebanese regions...  Walid Nassar   PERSON   \n",
       "4  NNA - Within his tours of the Lebanese regions...  Walid Nassar   PERSON   \n",
       "\n",
       "   e1_start  e1_end                                e2_text e2_label  e2_start  \\\n",
       "0        17      19                        Muhammad Jaffal   PERSON        50   \n",
       "1        17      19       the Union of Tire Municipalities      ORG        55   \n",
       "2        17      19                          Hassan Dabouq   PERSON        69   \n",
       "3        17      19                  the Municipal Council      ORG        74   \n",
       "4        17      19  the Ministry of Tourism, Georges Nour      ORG        91   \n",
       "\n",
       "   e2_end       REL  \n",
       "0      52  met_with  \n",
       "1      60       NaN  \n",
       "2      71  met_with  \n",
       "3      77  met_with  \n",
       "4      98  met_with  "
      ]
     },
     "execution_count": 11,
     "metadata": {},
     "output_type": "execute_result"
    }
   ],
   "source": [
    "data_df.head(5)"
   ]
  },
  {
   "cell_type": "code",
   "execution_count": 12,
   "id": "718c95ef",
   "metadata": {},
   "outputs": [],
   "source": [
    "if annotations is not None:\n",
    "    annotations.head(10)"
   ]
  },
  {
   "cell_type": "code",
   "execution_count": 14,
   "id": "0c49316b",
   "metadata": {},
   "outputs": [],
   "source": [
    "tortus = Tortus(\n",
    "    data_df,\n",
    "    'NERed_par', #'reviews',\n",
    "    num_records=2,\n",
    "    id_column='review_id',\n",
    "    labels=['Org-Per','Per-Per'],\n",
    "    annotations=annotations\n",
    ")\n"
   ]
  },
  {
   "cell_type": "code",
   "execution_count": 15,
   "id": "361ff07a",
   "metadata": {},
   "outputs": [
    {
     "data": {
      "application/vnd.jupyter.widget-view+json": {
       "model_id": "4fe98f019cf4441ca543ccb8d31c4941",
       "version_major": 2,
       "version_minor": 0
      },
      "text/plain": [
       "HBox(children=(HTML(value='<h1>t &nbsp; <span style=\"color:#36a849\">o</span>             &nbsp; r &nbsp; t &nb…"
      ]
     },
     "metadata": {},
     "output_type": "display_data"
    },
    {
     "data": {
      "application/vnd.jupyter.widget-view+json": {
       "model_id": "6268e277cec24268b3d57ab307a639d1",
       "version_major": 2,
       "version_minor": 0
      },
      "text/plain": [
       "HTML(value='Click on the label corresponding with the text below. Each selection requires                 conf…"
      ]
     },
     "metadata": {},
     "output_type": "display_data"
    },
    {
     "data": {
      "application/vnd.jupyter.widget-view+json": {
       "model_id": "b8ab1de667f4407999d907bb086d181f",
       "version_major": 2,
       "version_minor": 0
      },
      "text/plain": [
       "HTML(value='<h4>NNA - The President of the Republic , General [E1] Michel Aoun [\\\\E1] , confirmed to the Under…"
      ]
     },
     "metadata": {},
     "output_type": "display_data"
    },
    {
     "data": {
      "application/vnd.jupyter.widget-view+json": {
       "model_id": "33bd9d86945340a58d6d45819f1e3648",
       "version_major": 2,
       "version_minor": 0
      },
      "text/plain": [
       "GridBox(children=(VBox(children=(Box(children=(Button(description='Org-Per', layout=Layout(border='solid', fle…"
      ]
     },
     "metadata": {},
     "output_type": "display_data"
    },
    {
     "data": {
      "application/vnd.jupyter.widget-view+json": {
       "model_id": "c93395ac0b0c4f419e73d15622376956",
       "version_major": 2,
       "version_minor": 0
      },
      "text/plain": [
       "Output()"
      ]
     },
     "metadata": {},
     "output_type": "display_data"
    }
   ],
   "source": [
    "tortus.annotate()"
   ]
  },
  {
   "cell_type": "code",
   "execution_count": null,
   "id": "841dbebc",
   "metadata": {},
   "outputs": [],
   "source": [
    "tortus.annotations.to_csv('../../sample_project/movie_reviews_annotated.csv',index=False)"
   ]
  }
 ],
 "metadata": {
  "kernelspec": {
   "display_name": "Python 3 (ipykernel)",
   "language": "python",
   "name": "python3"
  },
  "language_info": {
   "codemirror_mode": {
    "name": "ipython",
    "version": 3
   },
   "file_extension": ".py",
   "mimetype": "text/x-python",
   "name": "python",
   "nbconvert_exporter": "python",
   "pygments_lexer": "ipython3",
   "version": "3.8.12"
  }
 },
 "nbformat": 4,
 "nbformat_minor": 5
}
