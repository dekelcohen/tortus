{
 "cells": [
  {
   "cell_type": "code",
   "execution_count": 1,
   "id": "845ecc32",
   "metadata": {},
   "outputs": [
    {
     "data": {
      "application/vnd.jupyter.widget-view+json": {
       "model_id": "5495be40aa8246fda9fcba2a6b8a3add",
       "version_major": 2,
       "version_minor": 0
      },
      "text/plain": [
       "HTML(value=\"<h1 style='text-align:center'>t &nbsp; <span style=        'color:#36a849'>o</span> &nbsp; r &nbsp…"
      ]
     },
     "metadata": {},
     "output_type": "display_data"
    },
    {
     "data": {
      "application/vnd.jupyter.widget-view+json": {
       "model_id": "271b0a2f8fc24ee3b0f02c69e933bf66",
       "version_major": 2,
       "version_minor": 0
      },
      "text/plain": [
       "HTML(value=\"<h3 style='text-align:center'>        easy text annotation in a Jupyter Notebook</h3>\")"
      ]
     },
     "metadata": {},
     "output_type": "display_data"
    }
   ],
   "source": [
    "import pandas as pd\n",
    "from tortus import Tortus, get_annotated_path, load_annotated_data"
   ]
  },
  {
   "cell_type": "code",
   "execution_count": 2,
   "id": "5351cca4",
   "metadata": {},
   "outputs": [],
   "source": [
    "# Read news\n",
    "data_path = '../../../../Relation Extraction/Datasets/100-news/100-news.csv'\n",
    "data_df = pd.read_csv(data_path,sep='\\t')\n",
    "data_df = data_df.reset_index()\n",
    "text_col = 'NERed_par'\n",
    "id_col='index'\n",
    "labels=['Org-Per','Per-Per']"
   ]
  },
  {
   "cell_type": "code",
   "execution_count": null,
   "id": "b76da483",
   "metadata": {},
   "outputs": [],
   "source": [
    "# Read movies reviews\n",
    "data_path = '../../sample_project/movie_reviews.csv'\n",
    "data_df = pd.read_csv(data_path)\n",
    "text_col = 'reviews'\n",
    "id_col='review_id'\n",
    "labels = None"
   ]
  },
  {
   "cell_type": "code",
   "execution_count": 3,
   "id": "cf4c2fbf",
   "metadata": {},
   "outputs": [],
   "source": [
    "annotations = load_annotated_data(data_path)"
   ]
  },
  {
   "cell_type": "code",
   "execution_count": 4,
   "id": "bda735fb",
   "metadata": {},
   "outputs": [
    {
     "data": {
      "text/html": [
       "<div>\n",
       "<style scoped>\n",
       "    .dataframe tbody tr th:only-of-type {\n",
       "        vertical-align: middle;\n",
       "    }\n",
       "\n",
       "    .dataframe tbody tr th {\n",
       "        vertical-align: top;\n",
       "    }\n",
       "\n",
       "    .dataframe thead th {\n",
       "        text-align: right;\n",
       "    }\n",
       "</style>\n",
       "<table border=\"1\" class=\"dataframe\">\n",
       "  <thead>\n",
       "    <tr style=\"text-align: right;\">\n",
       "      <th></th>\n",
       "      <th>index</th>\n",
       "      <th>NERed_par</th>\n",
       "      <th>e1_text</th>\n",
       "      <th>e1_label</th>\n",
       "      <th>e1_start</th>\n",
       "      <th>e1_end</th>\n",
       "      <th>e2_text</th>\n",
       "      <th>e2_label</th>\n",
       "      <th>e2_start</th>\n",
       "      <th>e2_end</th>\n",
       "      <th>REL</th>\n",
       "    </tr>\n",
       "  </thead>\n",
       "  <tbody>\n",
       "    <tr>\n",
       "      <th>0</th>\n",
       "      <td>0</td>\n",
       "      <td>NNA - Within his tours of the Lebanese regions...</td>\n",
       "      <td>Walid Nassar</td>\n",
       "      <td>PERSON</td>\n",
       "      <td>17</td>\n",
       "      <td>19</td>\n",
       "      <td>Muhammad Jaffal</td>\n",
       "      <td>PERSON</td>\n",
       "      <td>50</td>\n",
       "      <td>52</td>\n",
       "      <td>met_with</td>\n",
       "    </tr>\n",
       "    <tr>\n",
       "      <th>1</th>\n",
       "      <td>1</td>\n",
       "      <td>NNA - Within his tours of the Lebanese regions...</td>\n",
       "      <td>Walid Nassar</td>\n",
       "      <td>PERSON</td>\n",
       "      <td>17</td>\n",
       "      <td>19</td>\n",
       "      <td>the Union of Tire Municipalities</td>\n",
       "      <td>ORG</td>\n",
       "      <td>55</td>\n",
       "      <td>60</td>\n",
       "      <td>NaN</td>\n",
       "    </tr>\n",
       "    <tr>\n",
       "      <th>2</th>\n",
       "      <td>2</td>\n",
       "      <td>NNA - Within his tours of the Lebanese regions...</td>\n",
       "      <td>Walid Nassar</td>\n",
       "      <td>PERSON</td>\n",
       "      <td>17</td>\n",
       "      <td>19</td>\n",
       "      <td>Hassan Dabouq</td>\n",
       "      <td>PERSON</td>\n",
       "      <td>69</td>\n",
       "      <td>71</td>\n",
       "      <td>met_with</td>\n",
       "    </tr>\n",
       "    <tr>\n",
       "      <th>3</th>\n",
       "      <td>3</td>\n",
       "      <td>NNA - Within his tours of the Lebanese regions...</td>\n",
       "      <td>Walid Nassar</td>\n",
       "      <td>PERSON</td>\n",
       "      <td>17</td>\n",
       "      <td>19</td>\n",
       "      <td>the Municipal Council</td>\n",
       "      <td>ORG</td>\n",
       "      <td>74</td>\n",
       "      <td>77</td>\n",
       "      <td>met_with</td>\n",
       "    </tr>\n",
       "    <tr>\n",
       "      <th>4</th>\n",
       "      <td>4</td>\n",
       "      <td>NNA - Within his tours of the Lebanese regions...</td>\n",
       "      <td>Walid Nassar</td>\n",
       "      <td>PERSON</td>\n",
       "      <td>17</td>\n",
       "      <td>19</td>\n",
       "      <td>the Ministry of Tourism, Georges Nour</td>\n",
       "      <td>ORG</td>\n",
       "      <td>91</td>\n",
       "      <td>98</td>\n",
       "      <td>met_with</td>\n",
       "    </tr>\n",
       "  </tbody>\n",
       "</table>\n",
       "</div>"
      ],
      "text/plain": [
       "   index                                          NERed_par       e1_text  \\\n",
       "0      0  NNA - Within his tours of the Lebanese regions...  Walid Nassar   \n",
       "1      1  NNA - Within his tours of the Lebanese regions...  Walid Nassar   \n",
       "2      2  NNA - Within his tours of the Lebanese regions...  Walid Nassar   \n",
       "3      3  NNA - Within his tours of the Lebanese regions...  Walid Nassar   \n",
       "4      4  NNA - Within his tours of the Lebanese regions...  Walid Nassar   \n",
       "\n",
       "  e1_label  e1_start  e1_end                                e2_text e2_label  \\\n",
       "0   PERSON        17      19                        Muhammad Jaffal   PERSON   \n",
       "1   PERSON        17      19       the Union of Tire Municipalities      ORG   \n",
       "2   PERSON        17      19                          Hassan Dabouq   PERSON   \n",
       "3   PERSON        17      19                  the Municipal Council      ORG   \n",
       "4   PERSON        17      19  the Ministry of Tourism, Georges Nour      ORG   \n",
       "\n",
       "   e2_start  e2_end       REL  \n",
       "0        50      52  met_with  \n",
       "1        55      60       NaN  \n",
       "2        69      71  met_with  \n",
       "3        74      77  met_with  \n",
       "4        91      98  met_with  "
      ]
     },
     "execution_count": 4,
     "metadata": {},
     "output_type": "execute_result"
    }
   ],
   "source": [
    "data_df.head(5)"
   ]
  },
  {
   "cell_type": "code",
   "execution_count": 5,
   "id": "c28d2d0f",
   "metadata": {},
   "outputs": [],
   "source": [
    "if annotations is not None:\n",
    "    annotations.head(10)"
   ]
  },
  {
   "cell_type": "code",
   "execution_count": 6,
   "id": "899043a2",
   "metadata": {},
   "outputs": [],
   "source": [
    "tortus = Tortus(\n",
    "    data_df,\n",
    "    text_col ,\n",
    "    num_records=5,\n",
    "    id_column=id_col,\n",
    "    labels=labels,\n",
    "    annotations=annotations\n",
    ")\n"
   ]
  },
  {
   "cell_type": "code",
   "execution_count": 7,
   "id": "52e95a72",
   "metadata": {},
   "outputs": [
    {
     "data": {
      "application/vnd.jupyter.widget-view+json": {
       "model_id": "c86bca1c6d354e44b9c12ef931f5ec91",
       "version_major": 2,
       "version_minor": 0
      },
      "text/plain": [
       "HBox(children=(HTML(value='<h1>t &nbsp; <span style=\"color:#36a849\">o</span>             &nbsp; r &nbsp; t &nb…"
      ]
     },
     "metadata": {},
     "output_type": "display_data"
    },
    {
     "data": {
      "application/vnd.jupyter.widget-view+json": {
       "model_id": "67a305b678fe46fbaac49755699d3448",
       "version_major": 2,
       "version_minor": 0
      },
      "text/plain": [
       "Output()"
      ]
     },
     "metadata": {},
     "output_type": "display_data"
    }
   ],
   "source": [
    "tortus.annotate()"
   ]
  },
  {
   "cell_type": "code",
   "execution_count": 8,
   "id": "71fdfb82",
   "metadata": {},
   "outputs": [],
   "source": [
    "tortus.annotations.to_csv(get_annotated_path(data_path),index=False)"
   ]
  }
 ],
 "metadata": {
  "kernelspec": {
   "display_name": "Python 3 (ipykernel)",
   "language": "python",
   "name": "python3"
  },
  "language_info": {
   "codemirror_mode": {
    "name": "ipython",
    "version": 3
   },
   "file_extension": ".py",
   "mimetype": "text/x-python",
   "name": "python",
   "nbconvert_exporter": "python",
   "pygments_lexer": "ipython3",
   "version": "3.8.12"
  }
 },
 "nbformat": 4,
 "nbformat_minor": 5
}
