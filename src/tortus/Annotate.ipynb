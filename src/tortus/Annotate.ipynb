{
 "cells": [
  {
   "cell_type": "code",
   "execution_count": 1,
   "id": "e6749207",
   "metadata": {},
   "outputs": [
    {
     "data": {
      "application/vnd.jupyter.widget-view+json": {
       "model_id": "5e649cd9a75b48b29e694cfb1fb5d570",
       "version_major": 2,
       "version_minor": 0
      },
      "text/plain": [
       "HTML(value=\"<h1 style='text-align:center'>t &nbsp; <span style=        'color:#36a849'>o</span> &nbsp; r &nbsp…"
      ]
     },
     "metadata": {},
     "output_type": "display_data"
    },
    {
     "data": {
      "application/vnd.jupyter.widget-view+json": {
       "model_id": "5967df56a7d24dfab57bd6dafe33d794",
       "version_major": 2,
       "version_minor": 0
      },
      "text/plain": [
       "HTML(value=\"<h3 style='text-align:center'>        easy text annotation in a Jupyter Notebook</h3>\")"
      ]
     },
     "metadata": {},
     "output_type": "display_data"
    }
   ],
   "source": [
    "import pandas as pd\n",
    "from tortus import Tortus, get_annotated_path, load_annotated_data"
   ]
  },
  {
   "cell_type": "code",
   "execution_count": 74,
   "id": "eb1dc0eb",
   "metadata": {},
   "outputs": [],
   "source": [
    "# Read news\n",
    "data_path = '../../../../Relation Extraction/Datasets/100-news/100-news.csv'\n",
    "data_df = pd.read_csv(data_path,sep='\\t')\n",
    "data_df = data_df.reset_index()\n",
    "text_col = 'NERed_par'\n",
    "id_col='index'\n",
    "labels=['Org-Per','Per-Per', 'Ent-Err', 'Rel-Err']"
   ]
  },
  {
   "cell_type": "code",
   "execution_count": 75,
   "id": "96979e92",
   "metadata": {},
   "outputs": [],
   "source": [
    "# Replace markers to highlight \n",
    "data_df[text_col] = data_df[text_col].str.replace('[\\\\','[/', regex=False)\n",
    "markers_repl_dct = {'[E1]' : '<span style=\"background-color : yellow\">',\n",
    "     '[/E1]' : '</span>',\n",
    "     '[E2]' : '<span style=\"background-color : orange\">',\n",
    "     '[/E2]' : '</span>',     \n",
    "}\n",
    "for old, new in markers_repl_dct.items():\n",
    "    data_df[text_col] = data_df[text_col].str.replace(old, new, regex=False)\n"
   ]
  },
  {
   "cell_type": "code",
   "execution_count": null,
   "id": "52efd53d",
   "metadata": {},
   "outputs": [],
   "source": [
    "# Read movies reviews\n",
    "data_path = '../../sample_project/movie_reviews.csv'\n",
    "data_df = pd.read_csv(data_path)\n",
    "text_col = 'reviews'\n",
    "id_col='review_id'\n",
    "labels = None"
   ]
  },
  {
   "cell_type": "code",
   "execution_count": 76,
   "id": "1da56116",
   "metadata": {},
   "outputs": [],
   "source": [
    "annotations = load_annotated_data(data_path)"
   ]
  },
  {
   "cell_type": "code",
   "execution_count": 77,
   "id": "f3a1b037",
   "metadata": {},
   "outputs": [
    {
     "data": {
      "text/plain": [
       "'NNA - Within his tours of the Lebanese regions , the Minister of Tourism , Eng . <span style=\"background-color : yellow\"> Walid Nassar </span> , toured the city of Tyre , where he started it with a meeting in the municipality in the presence of Representative Enaya Ezz El - Din , Mayor of Tyre <span style=\"background-color : orange\"> Muhammad Jaffal </span> , President of the Union of Tire Municipalities and the President of Tyre Municipality , Eng . Hassan Dabouq , members of the Municipal Council and city activities , in addition to the heads of departments and departments in the Ministry of Tourism , Georges Nour and Philippe Tabet and representatives of the private sector .'"
      ]
     },
     "execution_count": 77,
     "metadata": {},
     "output_type": "execute_result"
    }
   ],
   "source": [
    "data_df.iloc[0][text_col]"
   ]
  },
  {
   "cell_type": "code",
   "execution_count": 78,
   "id": "40e893c8",
   "metadata": {},
   "outputs": [],
   "source": [
    "if annotations is not None:\n",
    "    annotations.head(10)"
   ]
  },
  {
   "cell_type": "code",
   "execution_count": 79,
   "id": "e77de4a6",
   "metadata": {},
   "outputs": [],
   "source": [
    "tortus = Tortus(\n",
    "    data_df,\n",
    "    text_col ,\n",
    "    num_records=5,\n",
    "    id_column=id_col,\n",
    "    labels=labels,\n",
    "    annotations=annotations\n",
    ")\n"
   ]
  },
  {
   "cell_type": "code",
   "execution_count": 80,
   "id": "d6d22d5c",
   "metadata": {},
   "outputs": [
    {
     "data": {
      "application/vnd.jupyter.widget-view+json": {
       "model_id": "ad661782e9614cdd901b8b7a5ba224cb",
       "version_major": 2,
       "version_minor": 0
      },
      "text/plain": [
       "HBox(children=(HTML(value='<h1>t &nbsp; <span style=\"color:#36a849\">o</span>             &nbsp; r &nbsp; t &nb…"
      ]
     },
     "metadata": {},
     "output_type": "display_data"
    },
    {
     "data": {
      "application/vnd.jupyter.widget-view+json": {
       "model_id": "2247f779a3874bcfb573dda7670b4417",
       "version_major": 2,
       "version_minor": 0
      },
      "text/plain": [
       "HTML(value='Click on the label corresponding with the text below. Each selection requires                 conf…"
      ]
     },
     "metadata": {},
     "output_type": "display_data"
    },
    {
     "data": {
      "application/vnd.jupyter.widget-view+json": {
       "model_id": "0525043ea10e4b4eb5ad3c62c9ebc087",
       "version_major": 2,
       "version_minor": 0
      },
      "text/plain": [
       "HTML(value='<h4>NNA - President of the Republic , General Michel Aoun , expressed his deep appreciation for th…"
      ]
     },
     "metadata": {},
     "output_type": "display_data"
    },
    {
     "data": {
      "application/vnd.jupyter.widget-view+json": {
       "model_id": "8c91df1086354b78ad6dc9ca55cceb03",
       "version_major": 2,
       "version_minor": 0
      },
      "text/plain": [
       "GridBox(children=(VBox(children=(Box(children=(Button(description='Org-Per', layout=Layout(border='solid', fle…"
      ]
     },
     "metadata": {},
     "output_type": "display_data"
    },
    {
     "data": {
      "application/vnd.jupyter.widget-view+json": {
       "model_id": "f29d6dc48db74d4995bee6ca6fbbf85b",
       "version_major": 2,
       "version_minor": 0
      },
      "text/plain": [
       "Output()"
      ]
     },
     "metadata": {},
     "output_type": "display_data"
    }
   ],
   "source": [
    "tortus.annotate()"
   ]
  },
  {
   "cell_type": "code",
   "execution_count": null,
   "id": "df577e4c",
   "metadata": {},
   "outputs": [],
   "source": [
    "tortus.annotations.to_csv(get_annotated_path(data_path),index=False)"
   ]
  }
 ],
 "metadata": {
  "kernelspec": {
   "display_name": "Python 3 (ipykernel)",
   "language": "python",
   "name": "python3"
  },
  "language_info": {
   "codemirror_mode": {
    "name": "ipython",
    "version": 3
   },
   "file_extension": ".py",
   "mimetype": "text/x-python",
   "name": "python",
   "nbconvert_exporter": "python",
   "pygments_lexer": "ipython3",
   "version": "3.8.12"
  }
 },
 "nbformat": 4,
 "nbformat_minor": 5
}
