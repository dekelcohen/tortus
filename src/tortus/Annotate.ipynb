{
 "cells": [
  {
   "cell_type": "code",
   "execution_count": 1,
   "id": "ed218084",
   "metadata": {},
   "outputs": [
    {
     "data": {
      "application/vnd.jupyter.widget-view+json": {
       "model_id": "6454cc43965d4d4caf32e5aab1900ab0",
       "version_major": 2,
       "version_minor": 0
      },
      "text/plain": [
       "HTML(value=\"<h1 style='text-align:center'>t &nbsp; <span style=        'color:#36a849'>o</span> &nbsp; r &nbsp…"
      ]
     },
     "metadata": {},
     "output_type": "display_data"
    },
    {
     "data": {
      "application/vnd.jupyter.widget-view+json": {
       "model_id": "5a1bede2a2f64425b279ed3b647de833",
       "version_major": 2,
       "version_minor": 0
      },
      "text/plain": [
       "HTML(value=\"<h3 style='text-align:center'>        easy text annotation in a Jupyter Notebook</h3>\")"
      ]
     },
     "metadata": {},
     "output_type": "display_data"
    }
   ],
   "source": [
    "import pandas as pd\n",
    "from tortus import Tortus, get_annotated_path, load_annotated_data"
   ]
  },
  {
   "cell_type": "code",
   "execution_count": 2,
   "id": "e8b9c49a",
   "metadata": {},
   "outputs": [],
   "source": [
    "# Read news\n",
    "data_path = '../../../../Relation Extraction/Datasets/100-news/100-news.csv'\n",
    "data_df = pd.read_csv(data_path,sep='\\t')\n",
    "data_df = data_df.reset_index()\n",
    "text_col = 'NERed_par'\n",
    "id_col='index'\n",
    "labels=['Org-Per','Per-Per', 'Ent-Err', 'Rel-Err']"
   ]
  },
  {
   "cell_type": "code",
   "execution_count": 3,
   "id": "c5a6bee2",
   "metadata": {},
   "outputs": [],
   "source": [
    "# Replace markers to highlight \n",
    "data_df[text_col] = data_df[text_col].str.replace('[\\\\','[/', regex=False)\n",
    "markers_repl_dct = {'[E1]' : '<span style=\"background-color : yellow\">',\n",
    "     '[/E1]' : '</span>',\n",
    "     '[E2]' : '<span style=\"background-color : orange\">',\n",
    "     '[/E2]' : '</span>',     \n",
    "}\n",
    "for old, new in markers_repl_dct.items():\n",
    "    data_df[text_col] = data_df[text_col].str.replace(old, new, regex=False)\n"
   ]
  },
  {
   "cell_type": "code",
   "execution_count": 4,
   "id": "ffa7403f",
   "metadata": {},
   "outputs": [],
   "source": [
    "# Read movies reviews\n",
    "#data_path = '../../sample_project/movie_reviews.csv'\n",
    "#data_df = pd.read_csv(data_path)\n",
    "#text_col = 'reviews'\n",
    "#id_col='review_id'\n",
    "#labels = None"
   ]
  },
  {
   "cell_type": "code",
   "execution_count": 5,
   "id": "28909b4d",
   "metadata": {},
   "outputs": [
    {
     "data": {
      "text/html": [
       "<div>\n",
       "<style scoped>\n",
       "    .dataframe tbody tr th:only-of-type {\n",
       "        vertical-align: middle;\n",
       "    }\n",
       "\n",
       "    .dataframe tbody tr th {\n",
       "        vertical-align: top;\n",
       "    }\n",
       "\n",
       "    .dataframe thead th {\n",
       "        text-align: right;\n",
       "    }\n",
       "</style>\n",
       "<table border=\"1\" class=\"dataframe\">\n",
       "  <thead>\n",
       "    <tr style=\"text-align: right;\">\n",
       "      <th></th>\n",
       "      <th>index</th>\n",
       "      <th>NERed_par</th>\n",
       "      <th>label</th>\n",
       "      <th>annotated_at</th>\n",
       "    </tr>\n",
       "  </thead>\n",
       "  <tbody>\n",
       "    <tr>\n",
       "      <th>0</th>\n",
       "      <td>2401</td>\n",
       "      <td>NNA - Member of &lt;span style=\"background-color ...</td>\n",
       "      <td>org-per</td>\n",
       "      <td>2022-03-24 17:19:14</td>\n",
       "    </tr>\n",
       "    <tr>\n",
       "      <th>1</th>\n",
       "      <td>878</td>\n",
       "      <td>NNA - Minister of Education and Acting Ministe...</td>\n",
       "      <td>ent-err</td>\n",
       "      <td>2022-03-24 17:19:48</td>\n",
       "    </tr>\n",
       "    <tr>\n",
       "      <th>2</th>\n",
       "      <td>376</td>\n",
       "      <td>At &lt;span style=\"background-color : yellow\"&gt; Kf...</td>\n",
       "      <td>org-per</td>\n",
       "      <td>2022-03-24 17:20:19</td>\n",
       "    </tr>\n",
       "    <tr>\n",
       "      <th>3</th>\n",
       "      <td>2098</td>\n",
       "      <td>NNA - Today , the United Nations Special Coord...</td>\n",
       "      <td>per-per</td>\n",
       "      <td>2022-03-24 17:20:30</td>\n",
       "    </tr>\n",
       "    <tr>\n",
       "      <th>4</th>\n",
       "      <td>2275</td>\n",
       "      <td>As a follow - on to the Middle East and &lt;span ...</td>\n",
       "      <td>org-per</td>\n",
       "      <td>2022-03-24 17:20:35</td>\n",
       "    </tr>\n",
       "    <tr>\n",
       "      <th>5</th>\n",
       "      <td>2650</td>\n",
       "      <td>Minister &lt;span style=\"background-color : yello...</td>\n",
       "      <td>org-per</td>\n",
       "      <td>2022-03-24 17:20:43</td>\n",
       "    </tr>\n",
       "    <tr>\n",
       "      <th>6</th>\n",
       "      <td>2334</td>\n",
       "      <td>&lt;span style=\"background-color : yellow\"&gt; UN Sp...</td>\n",
       "      <td>per-per</td>\n",
       "      <td>2022-03-24 17:20:45</td>\n",
       "    </tr>\n",
       "    <tr>\n",
       "      <th>7</th>\n",
       "      <td>1766</td>\n",
       "      <td>Commenting on this occasion , &lt;span style=\"bac...</td>\n",
       "      <td>org-per</td>\n",
       "      <td>2022-03-24 17:20:48</td>\n",
       "    </tr>\n",
       "  </tbody>\n",
       "</table>\n",
       "</div>"
      ],
      "text/plain": [
       "   index                                          NERed_par    label  \\\n",
       "0   2401  NNA - Member of <span style=\"background-color ...  org-per   \n",
       "1    878  NNA - Minister of Education and Acting Ministe...  ent-err   \n",
       "2    376  At <span style=\"background-color : yellow\"> Kf...  org-per   \n",
       "3   2098  NNA - Today , the United Nations Special Coord...  per-per   \n",
       "4   2275  As a follow - on to the Middle East and <span ...  org-per   \n",
       "5   2650  Minister <span style=\"background-color : yello...  org-per   \n",
       "6   2334  <span style=\"background-color : yellow\"> UN Sp...  per-per   \n",
       "7   1766  Commenting on this occasion , <span style=\"bac...  org-per   \n",
       "\n",
       "          annotated_at  \n",
       "0  2022-03-24 17:19:14  \n",
       "1  2022-03-24 17:19:48  \n",
       "2  2022-03-24 17:20:19  \n",
       "3  2022-03-24 17:20:30  \n",
       "4  2022-03-24 17:20:35  \n",
       "5  2022-03-24 17:20:43  \n",
       "6  2022-03-24 17:20:45  \n",
       "7  2022-03-24 17:20:48  "
      ]
     },
     "execution_count": 5,
     "metadata": {},
     "output_type": "execute_result"
    }
   ],
   "source": [
    "annotations = load_annotated_data(data_path)\n",
    "annotations"
   ]
  },
  {
   "cell_type": "code",
   "execution_count": 6,
   "id": "eaab261a",
   "metadata": {},
   "outputs": [],
   "source": [
    "tortus = Tortus(\n",
    "    data_df,\n",
    "    text_col ,\n",
    "    num_records=10,\n",
    "    id_column=id_col,\n",
    "    labels=labels,\n",
    "    annotations=annotations,\n",
    "    edit_annotations=True,\n",
    ")\n"
   ]
  },
  {
   "cell_type": "code",
   "execution_count": 7,
   "id": "1d4e4759",
   "metadata": {},
   "outputs": [
    {
     "name": "stdout",
     "output_type": "stream",
     "text": [
      "annotation_index= 0\n",
      "annotations    index                                          NERed_par    label\n",
      "0   2401  NNA - Member of <span style=\"background-color ...  org-per\n",
      "1    878  NNA - Minister of Education and Acting Ministe...  org-per\n",
      "2    376  At <span style=\"background-color : yellow\"> Kf...  ent-err\n",
      "3   2098  NNA - Today , the United Nations Special Coord...  rel-err\n",
      "4   2275  As a follow - on to the Middle East and <span ...  org-per\n",
      "5   2650  Minister <span style=\"background-color : yello...  org-per\n",
      "6   2334  <span style=\"background-color : yellow\"> UN Sp...  per-per\n",
      "7   1766  Commenting on this occasion , <span style=\"bac...  ent-err\n"
     ]
    },
    {
     "data": {
      "application/vnd.jupyter.widget-view+json": {
       "model_id": "371435b2062345f29c71a41b578324cf",
       "version_major": 2,
       "version_minor": 0
      },
      "text/plain": [
       "HBox(children=(HTML(value='<h1>t &nbsp; <span style=\"color:#36a849\">o</span>             &nbsp; r &nbsp; t &nb…"
      ]
     },
     "metadata": {},
     "output_type": "display_data"
    },
    {
     "data": {
      "application/vnd.jupyter.widget-view+json": {
       "model_id": "ea50428250854566936e398505d0cbe9",
       "version_major": 2,
       "version_minor": 0
      },
      "text/plain": [
       "HTML(value='Click on the label corresponding with the text below. Each selection requires                 conf…"
      ]
     },
     "metadata": {},
     "output_type": "display_data"
    },
    {
     "data": {
      "application/vnd.jupyter.widget-view+json": {
       "model_id": "8bdc9623536645d18f8712159d8ce94a",
       "version_major": 2,
       "version_minor": 0
      },
      "text/plain": [
       "HTML(value='<h4>At <span style=\"background-color : yellow\"> Kfarhatta \\'s Secondary Public School </span> , pa…"
      ]
     },
     "metadata": {},
     "output_type": "display_data"
    },
    {
     "data": {
      "application/vnd.jupyter.widget-view+json": {
       "model_id": "32578e4a9e0e49ebbb099d82e35b6a13",
       "version_major": 2,
       "version_minor": 0
      },
      "text/plain": [
       "GridBox(children=(VBox(children=(Box(children=(Button(description='Org-Per', layout=Layout(border='solid', fle…"
      ]
     },
     "metadata": {},
     "output_type": "display_data"
    },
    {
     "data": {
      "application/vnd.jupyter.widget-view+json": {
       "model_id": "eb1d7cfb5dec4a91b3edf4e1d8e9c3fc",
       "version_major": 2,
       "version_minor": 0
      },
      "text/plain": [
       "Output()"
      ]
     },
     "metadata": {},
     "output_type": "display_data"
    }
   ],
   "source": [
    "tortus.annotate()"
   ]
  },
  {
   "cell_type": "code",
   "execution_count": null,
   "id": "7bb44e25",
   "metadata": {},
   "outputs": [],
   "source": [
    "tortus.annotations.to_csv(get_annotated_path(data_path),index=False)"
   ]
  },
  {
   "cell_type": "code",
   "execution_count": 8,
   "id": "d8aa6840",
   "metadata": {},
   "outputs": [
    {
     "data": {
      "text/html": [
       "<div>\n",
       "<style scoped>\n",
       "    .dataframe tbody tr th:only-of-type {\n",
       "        vertical-align: middle;\n",
       "    }\n",
       "\n",
       "    .dataframe tbody tr th {\n",
       "        vertical-align: top;\n",
       "    }\n",
       "\n",
       "    .dataframe thead th {\n",
       "        text-align: right;\n",
       "    }\n",
       "</style>\n",
       "<table border=\"1\" class=\"dataframe\">\n",
       "  <thead>\n",
       "    <tr style=\"text-align: right;\">\n",
       "      <th></th>\n",
       "      <th>index</th>\n",
       "      <th>NERed_par</th>\n",
       "      <th>label</th>\n",
       "      <th>annotated_at</th>\n",
       "    </tr>\n",
       "  </thead>\n",
       "  <tbody>\n",
       "    <tr>\n",
       "      <th>0</th>\n",
       "      <td>2401</td>\n",
       "      <td>NNA - Member of &lt;span style=\"background-color ...</td>\n",
       "      <td>org-per</td>\n",
       "      <td>2022-03-24 17:19:14</td>\n",
       "    </tr>\n",
       "    <tr>\n",
       "      <th>1</th>\n",
       "      <td>878</td>\n",
       "      <td>NNA - Minister of Education and Acting Ministe...</td>\n",
       "      <td>org-per</td>\n",
       "      <td>2022-03-24 17:22:54</td>\n",
       "    </tr>\n",
       "    <tr>\n",
       "      <th>2</th>\n",
       "      <td>376</td>\n",
       "      <td>At &lt;span style=\"background-color : yellow\"&gt; Kf...</td>\n",
       "      <td>ent-err</td>\n",
       "      <td>2022-03-24 17:22:02</td>\n",
       "    </tr>\n",
       "    <tr>\n",
       "      <th>3</th>\n",
       "      <td>2098</td>\n",
       "      <td>NNA - Today , the United Nations Special Coord...</td>\n",
       "      <td>rel-err</td>\n",
       "      <td>2022-03-24 17:22:36</td>\n",
       "    </tr>\n",
       "    <tr>\n",
       "      <th>4</th>\n",
       "      <td>2275</td>\n",
       "      <td>As a follow - on to the Middle East and &lt;span ...</td>\n",
       "      <td>org-per</td>\n",
       "      <td>2022-03-24 17:20:35</td>\n",
       "    </tr>\n",
       "    <tr>\n",
       "      <th>5</th>\n",
       "      <td>2650</td>\n",
       "      <td>Minister &lt;span style=\"background-color : yello...</td>\n",
       "      <td>org-per</td>\n",
       "      <td>2022-03-24 17:20:43</td>\n",
       "    </tr>\n",
       "    <tr>\n",
       "      <th>6</th>\n",
       "      <td>2334</td>\n",
       "      <td>&lt;span style=\"background-color : yellow\"&gt; UN Sp...</td>\n",
       "      <td>per-per</td>\n",
       "      <td>2022-03-24 17:20:45</td>\n",
       "    </tr>\n",
       "    <tr>\n",
       "      <th>7</th>\n",
       "      <td>1766</td>\n",
       "      <td>Commenting on this occasion , &lt;span style=\"bac...</td>\n",
       "      <td>ent-err</td>\n",
       "      <td>2022-03-24 17:22:31</td>\n",
       "    </tr>\n",
       "  </tbody>\n",
       "</table>\n",
       "</div>"
      ],
      "text/plain": [
       "   index                                          NERed_par    label  \\\n",
       "0   2401  NNA - Member of <span style=\"background-color ...  org-per   \n",
       "1    878  NNA - Minister of Education and Acting Ministe...  org-per   \n",
       "2    376  At <span style=\"background-color : yellow\"> Kf...  ent-err   \n",
       "3   2098  NNA - Today , the United Nations Special Coord...  rel-err   \n",
       "4   2275  As a follow - on to the Middle East and <span ...  org-per   \n",
       "5   2650  Minister <span style=\"background-color : yello...  org-per   \n",
       "6   2334  <span style=\"background-color : yellow\"> UN Sp...  per-per   \n",
       "7   1766  Commenting on this occasion , <span style=\"bac...  ent-err   \n",
       "\n",
       "          annotated_at  \n",
       "0  2022-03-24 17:19:14  \n",
       "1  2022-03-24 17:22:54  \n",
       "2  2022-03-24 17:22:02  \n",
       "3  2022-03-24 17:22:36  \n",
       "4  2022-03-24 17:20:35  \n",
       "5  2022-03-24 17:20:43  \n",
       "6  2022-03-24 17:20:45  \n",
       "7  2022-03-24 17:22:31  "
      ]
     },
     "execution_count": 8,
     "metadata": {},
     "output_type": "execute_result"
    }
   ],
   "source": [
    "tortus.annotations"
   ]
  },
  {
   "cell_type": "code",
   "execution_count": null,
   "id": "39beb7e3",
   "metadata": {},
   "outputs": [],
   "source": []
  }
 ],
 "metadata": {
  "kernelspec": {
   "display_name": "Python 3 (ipykernel)",
   "language": "python",
   "name": "python3"
  },
  "language_info": {
   "codemirror_mode": {
    "name": "ipython",
    "version": 3
   },
   "file_extension": ".py",
   "mimetype": "text/x-python",
   "name": "python",
   "nbconvert_exporter": "python",
   "pygments_lexer": "ipython3",
   "version": "3.8.12"
  }
 },
 "nbformat": 4,
 "nbformat_minor": 5
}
