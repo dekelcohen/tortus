{
 "cells": [
  {
   "cell_type": "code",
   "execution_count": 1,
   "id": "d019b4bc",
   "metadata": {},
   "outputs": [
    {
     "data": {
      "application/vnd.jupyter.widget-view+json": {
       "model_id": "59669943030b48e9a2f0d6df87d5cd02",
       "version_major": 2,
       "version_minor": 0
      },
      "text/plain": [
       "HTML(value=\"<h1 style='text-align:center'>t &nbsp; <span style=        'color:#36a849'>o</span> &nbsp; r &nbsp…"
      ]
     },
     "metadata": {},
     "output_type": "display_data"
    },
    {
     "data": {
      "application/vnd.jupyter.widget-view+json": {
       "model_id": "b77a1cd93cad4e57b0ec2c6bdce922f1",
       "version_major": 2,
       "version_minor": 0
      },
      "text/plain": [
       "HTML(value=\"<h3 style='text-align:center'>        easy text annotation in a Jupyter Notebook</h3>\")"
      ]
     },
     "metadata": {},
     "output_type": "display_data"
    }
   ],
   "source": [
    "import pandas as pd\n",
    "from tortus import Tortus, get_annotated_path, load_annotated_data"
   ]
  },
  {
   "cell_type": "code",
   "execution_count": 2,
   "id": "c6229a9b",
   "metadata": {},
   "outputs": [],
   "source": [
    "# Read news\n",
    "data_path = '../../../../Relation Extraction/Datasets/100-news/100-news.csv'\n",
    "data_df = pd.read_csv(data_path,sep='\\t')\n",
    "data_df = data_df.reset_index()\n",
    "text_col = 'NERed_par'\n",
    "id_col='index'\n",
    "labels=['Org-Per','Per-Per', 'Ent-Err', 'Rel-Err']"
   ]
  },
  {
   "cell_type": "code",
   "execution_count": 3,
   "id": "940406a5",
   "metadata": {},
   "outputs": [],
   "source": [
    "# Replace markers to highlight \n",
    "data_df[text_col] = data_df[text_col].str.replace('[\\\\','[/', regex=False)\n",
    "markers_repl_dct = {'[E1]' : '<span style=\"background-color : yellow\">',\n",
    "     '[/E1]' : '</span>',\n",
    "     '[E2]' : '<span style=\"background-color : orange\">',\n",
    "     '[/E2]' : '</span>',     \n",
    "}\n",
    "for old, new in markers_repl_dct.items():\n",
    "    data_df[text_col] = data_df[text_col].str.replace(old, new, regex=False)\n"
   ]
  },
  {
   "cell_type": "code",
   "execution_count": 4,
   "id": "884db633",
   "metadata": {},
   "outputs": [
    {
     "data": {
      "text/plain": [
       "3"
      ]
     },
     "execution_count": 4,
     "metadata": {},
     "output_type": "execute_result"
    }
   ],
   "source": [
    "\n",
    "data_df.index.get_loc(data_df.iloc[3].name)                    "
   ]
  },
  {
   "cell_type": "code",
   "execution_count": 5,
   "id": "f1bcd512",
   "metadata": {},
   "outputs": [],
   "source": [
    "# Read movies reviews\n",
    "#data_path = '../../sample_project/movie_reviews.csv'\n",
    "#data_df = pd.read_csv(data_path)\n",
    "#text_col = 'reviews'\n",
    "#id_col='review_id'\n",
    "#labels = None"
   ]
  },
  {
   "cell_type": "code",
   "execution_count": 6,
   "id": "5618db61",
   "metadata": {},
   "outputs": [],
   "source": [
    "annotations = load_annotated_data(data_path)"
   ]
  },
  {
   "cell_type": "code",
   "execution_count": 7,
   "id": "7cf20487",
   "metadata": {},
   "outputs": [],
   "source": [
    "if annotations is not None:\n",
    "    annotations.head(10)"
   ]
  },
  {
   "cell_type": "code",
   "execution_count": 8,
   "id": "9535d1fd",
   "metadata": {},
   "outputs": [],
   "source": [
    "tortus = Tortus(\n",
    "    data_df,\n",
    "    text_col ,\n",
    "    num_records=10,\n",
    "    id_column=id_col,\n",
    "    labels=labels,\n",
    "    annotations=annotations\n",
    ")\n"
   ]
  },
  {
   "cell_type": "code",
   "execution_count": 9,
   "id": "d6d2e74d",
   "metadata": {},
   "outputs": [
    {
     "data": {
      "application/vnd.jupyter.widget-view+json": {
       "model_id": "cb095d752c674ecbbb0c22d71243ac8f",
       "version_major": 2,
       "version_minor": 0
      },
      "text/plain": [
       "HBox(children=(HTML(value='<h1>t &nbsp; <span style=\"color:#36a849\">o</span>             &nbsp; r &nbsp; t &nb…"
      ]
     },
     "metadata": {},
     "output_type": "display_data"
    },
    {
     "data": {
      "application/vnd.jupyter.widget-view+json": {
       "model_id": "2ea8fa3b07fb4b91a11a40f0c6848040",
       "version_major": 2,
       "version_minor": 0
      },
      "text/plain": [
       "Output()"
      ]
     },
     "metadata": {},
     "output_type": "display_data"
    }
   ],
   "source": [
    "tortus.annotate()"
   ]
  },
  {
   "cell_type": "code",
   "execution_count": null,
   "id": "28b2eff8",
   "metadata": {},
   "outputs": [],
   "source": [
    "tortus.annotations.to_csv(get_annotated_path(data_path),index=False)"
   ]
  },
  {
   "cell_type": "code",
   "execution_count": null,
   "id": "c8d68157",
   "metadata": {},
   "outputs": [],
   "source": [
    "tortus.annotations"
   ]
  },
  {
   "cell_type": "code",
   "execution_count": null,
   "id": "dac3ba0a",
   "metadata": {},
   "outputs": [],
   "source": []
  }
 ],
 "metadata": {
  "kernelspec": {
   "display_name": "Python 3 (ipykernel)",
   "language": "python",
   "name": "python3"
  },
  "language_info": {
   "codemirror_mode": {
    "name": "ipython",
    "version": 3
   },
   "file_extension": ".py",
   "mimetype": "text/x-python",
   "name": "python",
   "nbconvert_exporter": "python",
   "pygments_lexer": "ipython3",
   "version": "3.8.12"
  }
 },
 "nbformat": 4,
 "nbformat_minor": 5
}
